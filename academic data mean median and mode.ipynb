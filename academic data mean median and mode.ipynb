{
 "cells": [
  {
   "cell_type": "code",
   "execution_count": 1,
   "id": "1fdfba46",
   "metadata": {},
   "outputs": [],
   "source": [
    "import pandas as pd\n",
    "import matplotlib"
   ]
  },
  {
   "cell_type": "code",
   "execution_count": 2,
   "id": "d987c585",
   "metadata": {},
   "outputs": [],
   "source": [
    "file = 'NHES_07_PFI_v1_0.csv'"
   ]
  },
  {
   "cell_type": "code",
   "execution_count": 3,
   "id": "f9e8dc63",
   "metadata": {},
   "outputs": [
    {
     "name": "stderr",
     "output_type": "stream",
     "text": [
      "/var/folders/g2/5c91q6zn16zcdb0_8lx28mch0000gn/T/ipykernel_2434/1589215408.py:1: DtypeWarning: Columns (49) have mixed types. Specify dtype option on import or set low_memory=False.\n",
      "  df = pd.read_csv(file)\n"
     ]
    },
    {
     "name": "stdout",
     "output_type": "stream",
     "text": [
      "         BASMID    BASEID MAINRSLT PATH  ENGLSPAN  AGE2006  SEX  RESPAGE  \\\n",
      "0  500000330601  50000033       CM    M         1       12    2       72   \n",
      "1  500007440401  50000744       CE    E         1        6    1       35   \n",
      "2  500008750301  50000875       CE    E         1        5    2       35   \n",
      "3  500010290301  50001029       CE    E         1        5    1       22   \n",
      "4  500010950301  50001095       CS    S         1       14    2       38   \n",
      "\n",
      "   RESPSEX  RESRELN  ...  HWELFSF  HWIF  HFOODSF  HMEDICAF  HCHIF  HSECF8  \\\n",
      "0        2        1  ...        0     0        0         0      0       0   \n",
      "1        2        1  ...        0     0        0         0      0       0   \n",
      "2        1        2  ...        0     0        0         0      0       0   \n",
      "3        2        1  ...        0     0        0         0      0       0   \n",
      "4        2        1  ...        0     0        0         0      0       0   \n",
      "\n",
      "   H3YRMOVF  HINCMRNF  HINCM50F  HINCOMF  \n",
      "0         0         0         0        0  \n",
      "1         0         0         0        0  \n",
      "2         0         0         0        0  \n",
      "3         0         0         0        0  \n",
      "4         0         0         0        0  \n",
      "\n",
      "[5 rows x 916 columns]\n"
     ]
    }
   ],
   "source": [
    "df = pd.read_csv(file)\n",
    "print(df.head())"
   ]
  },
  {
   "cell_type": "code",
   "execution_count": 4,
   "id": "05f1f9b7",
   "metadata": {},
   "outputs": [
    {
     "name": "stdout",
     "output_type": "stream",
     "text": [
      "['BASMID', 'BASEID', 'MAINRSLT', 'PATH', 'ENGLSPAN', 'AGE2006', 'SEX', 'RESPAGE', 'RESPSEX', 'RESRELN', 'MOMAGE1', 'MOMTYPE1', 'MOMAGE2', 'MOMTYPE2', 'DADAGE1', 'DADTYPE1', 'DADAGE2', 'DADTYPE2', 'AGE1', 'SEX1', 'RELATN1', 'AGE2', 'SEX2', 'RELATN2', 'AGE3', 'SEX3', 'RELATN3', 'AGE4', 'SEX4', 'RELATN4', 'AGE5', 'SEX5', 'RELATN5', 'AGE6', 'SEX6', 'RELATN6', 'AGE7', 'SEX7', 'RELATN7', 'CDOBMM', 'CDOBYY', 'CSPEAK', 'RESPEAK', 'ENROLL', 'HOMESCHL', 'HOMEALL', 'HOMSCHR', 'HOMSCFLG', 'GRADE', 'GRADEEQ', 'HSWHO', 'HSTUTOR', 'HSDAYS', 'HSHOURS', 'HSASSN', 'HSFREQ', 'HSKACTIV', 'HSCLIBR', 'HSCHSPUB', 'HSCEDPUB', 'HSCORG', 'HSCCHUR', 'HSCPUBL', 'HSCPRIV', 'HSCREL', 'HSCNET', 'HSOLIBR', 'HSOCHUR', 'HSOPUBL', 'HSOPRIV', 'HSOOTH', 'HSINTNET', 'HSINTPUB', 'HOMALLGRD', 'HOMET', 'HOMEK', 'HOMEP', 'HOME1', 'HOME2', 'HOME3', 'HOME4', 'HOME5', 'HOME6', 'HOME7', 'HOME8', 'HOME9', 'HOME10', 'HOME11', 'HOME12', 'HSSAFETY', 'HSDISSAT', 'HSRELIGN', 'HSDISABL', 'HSILL', 'HSSPCLND', 'HSALT', 'HSOTHER', 'HSMOST', 'KPENROLL', 'KPAGEYR', 'KPAGEMO', 'KPFULDAY', 'SPUBLIC', 'SCHOICE', 'SDISRCT', 'SPUBCHOI', 'SCONSIDR', 'SPERFORM', 'STLKPAR', 'SREASON', 'S1STCHOI', 'SNEIGHBR', 'SSAMSC', 'SMVMTH', 'SEENJOY', 'SEGRADES', 'SEGRADEQ', 'SEBEHAV', 'SESCHWRK', 'SEDOWELL', 'SEADPLC', 'SEESL', 'SEREPEAT', 'SEREPTK', 'SEREPT1', 'SEREPT2', 'SEREPT3', 'SEREPT4', 'SEREPT5', 'SEREPT6', 'SEREPT7', 'SEREPT8', 'SEREPT9', 'SEREPT10', 'SEREPT11', 'SEREPT12', 'SESUSOUT', 'SESUSPIN', 'SEEXPEL', 'SERECNEW', 'SEFUTURE', 'SEFAMPAY', 'SECOLACT', 'SESCHOL', 'FSMTNG', 'FSPTMTNG', 'FSATCNFN', 'FSSPORT', 'FSVOL', 'FSFUNDRS', 'FSCOMMTE', 'FSCOUNSLR', 'FSFREQ', 'FSNOTES', 'FSMEMOS', 'FSPHONE', 'FSSPPERF', 'FSSPHW', 'FSSPCOUR', 'FSSPCOLL', 'FSSPROLE', 'FCSCHOOL', 'FCTEACHR', 'FCSTDS', 'FCORDER', 'FCSUPPRT', 'FPMTGWRK', 'FPTCHCAR', 'FPHLPCHD', 'FPPTRUST', 'FPSWELCM', 'FPPRVAL', 'FPPRATND', 'FPTALK', 'FSDIFENG', 'FSINTERP', 'FSTRANSL', 'FHHOME', 'FHWKHRS', 'FHAMOUNT', 'FHPLACE', 'FORHW', 'FHCHECK', 'FHHELP', 'FHSCHTUT', 'FHGETTUT', 'FHTUTSAT', 'FHOTHTUT', 'FHPDTSAT', 'FHTUCOST', 'FHTUUNIT', 'HABOOKS', 'FOREADTO', 'MOTHERFG', 'FATHERMG', 'SISBRO', 'ANOTADLT', 'SOMEONEL', 'FORDDAY', 'FOPICTR', 'FOLETTR', 'FOCHREAD', 'FOTLKSTR', 'HASTORY', 'HAWORDS', 'HAPRETND', 'FOCHLRD', 'HALEAPPD', 'FOSTORY2', 'FOCRAFT2', 'FOSPORT2', 'FOBUILD1', 'FOHIST', 'FOGAMES2', 'FOBUILD2', 'FOSPORT3', 'FORESPON', 'FODINNER', 'FOLIBRAR', 'FOBOOKST', 'FOCONCRT', 'FOMUSEUM', 'FOZOO', 'FOGROUP', 'FOSPRTEV', 'FOETHNIC', 'TVHRWKDY', 'TVWKDYNU', 'TVHRWKND', 'TVWKNDNU', 'ABCCBSCW', 'ANIMPLAN', 'CARTOONS', 'CHRSTNCH', 'DISCOVER', 'DISNEYCH', 'SPORTSCH', 'FAMILYCH', 'MTVVH1', 'NICKELOD', 'NEWSNET', 'NOGGIN', 'PBSSPRT', 'SPNLNGCH', 'LEARNCH', 'TVLAND', 'HISTCHAN', 'FOODNET', 'TVOTHER', 'VIDNOTV', 'TVCHMOST', 'FORTVPRG', 'FOSCHACT', 'FOMUSLES', 'FORELCLS', 'FOORGSPR', 'FOSCOUTS', 'FOCOLEXM', 'FOARTS', 'PARREAD', 'CSPARCMT', 'HDBRTHW5', 'HDBRTHW3', 'HDPRMTR4', 'HDHOSP', 'HDIFSP', 'HDHEALTH', 'HDCHINS', 'HDWEIGHT', 'HDWEIGHT2', 'HDLEARN', 'HDMENRET', 'HDSPEECH', 'HDDISTRB', 'HDDEAFIM', 'HDBLIND', 'HDORTHO', 'HDAUTISM', 'HDADD', 'HDPDD', 'HDOTHER', 'HDSCHL', 'HDGOVT', 'HDDOCTOR', 'HDSOURCE', 'HDIEP', 'HDDEVIEP', 'HDSPCLED', 'HDCOMMU', 'HDTCHR', 'HDACCOM', 'HDCOMMIT', 'HDAFFECT', 'CBORNUS', 'CMOVEAGE', 'CHISPAN', 'CWHITE', 'CBLACK', 'CAMIND', 'CASIAN', 'CPACI', 'CRACEOTH', 'MOMNEW1', 'MOMSTAT1', 'MOMLIVW1', 'MOMLANG1', 'MOMSPEAK1', 'MOMBORN1', 'MHISPAN1', 'MWHITE1', 'MBLACK1', 'MAMIND1', 'MASIAN1', 'MPACI1', 'MRACEOTH1', 'MOMGRADE1', 'MOMGRAD11', 'MOMGRAD21', 'MOMVOTEC1', 'MOMDIPL1', 'MOMWORK1', 'MOMLEAVE1', 'MOMHOURS1', 'MOMMTHS1', 'MOMLOOK1', 'MOMAGN1', 'MOMEMPL1', 'MOMREL1', 'MOMANSAD1', 'MOMENROL1', 'MOMNEW2', 'MOMSTAT2', 'MOMLIVW2', 'MOMLANG2', 'MOMSPEAK2', 'MOMBORN2', 'MHISPAN2', 'MWHITE2', 'MBLACK2', 'MAMIND2', 'MASIAN2', 'MPACI2', 'MRACEOTH2', 'MOMGRADE2', 'MOMGRAD12', 'MOMGRAD22', 'MOMVOTEC2', 'MOMDIPL2', 'MOMWORK2', 'MOMLEAVE2', 'MOMHOURS2', 'MOMMTHS2', 'MOMLOOK2', 'MOMAGN2', 'MOMEMPL2', 'MOMREL2', 'MOMANSAD2', 'MOMENROL2', 'DADSTAT1', 'DADLIVW1', 'DADLANG1', 'DADSPEAK1', 'DADBORN1', 'DHISPAN1', 'DWHITE1', 'DBLACK1', 'DAMIND1', 'DASIAN1', 'DPACI1', 'DRACEOTH1', 'DADGRADE1', 'DADGRAD11', 'DADGRAD21', 'DADVOTEC1', 'DADDIPL1', 'DADWORK1', 'DADLEAVE1', 'DADHOURS1', 'DADMTHS1', 'DADLOOK1', 'DADAGN1', 'DADEMPL1', 'DADREL1', 'DADANSAD1', 'DADENROL1', 'DADSTAT2', 'DADLIVW2', 'DADLANG2', 'DADSPEAK2', 'DADBORN2', 'DHISPAN2', 'DWHITE2', 'DBLACK2', 'DAMIND2', 'DASIAN2', 'DPACI2', 'DRACEOTH2', 'DADGRADE2', 'DADGRAD12', 'DADGRAD22', 'DADVOTEC2', 'DADDIPL2', 'DADWORK2', 'DADLEAVE2', 'DADHOURS2', 'DADMTHS2', 'DADLOOK2', 'DADAGN2', 'DADEMPL2', 'DADREL2', 'DADANSAD2', 'DADENROL2', 'FOINTHM', 'HWELFTAN', 'HWELFST', 'HWIC', 'HFOODST', 'HMEDICAD', 'HCHIP', 'HSECN8', 'H3YRMOVE', 'HINCMRNG', 'HINCM50K', 'HINCOME', 'ALLGRADE', 'CENREG', 'DADEDUC1', 'DADEMPLD1', 'DADEDUC2', 'DADEMPLD2', 'DISABLTY', 'DISBLTY2', 'FAMILY', 'FAMILY07', 'HH18OVER', 'HHDAD1', 'HHDAD2', 'HHMOM1', 'HHMOM2', 'HHPARN1', 'HHPARN07', 'HHTOTAL', 'HHUNDR6', 'HHUNDR10', 'HHUNDR13', 'HHUNDR18', 'HHUNDR21', 'LANGUAGE07', 'MOMEDUC1', 'MOMEMPLD1', 'MOMFTFY1', 'MOMEDUC2', 'MOMEMPLD2', 'MOMFTFY2', 'NUMSIBS', 'PARGRADE07', 'RACEETHN', 'RACEETH2', 'S07CHART', 'S07NUMST', 'S07PBPV', 'S07SAMSX', 'S07TITL1', 'S07TYPE', 'SCHLGRAD', 'TVHOURS', 'ZIP18PO2', 'ZIPBLHI2', 'ZIPLOCL', 'FPWT', 'FPWT1', 'FPWT2', 'FPWT3', 'FPWT4', 'FPWT5', 'FPWT6', 'FPWT7', 'FPWT8', 'FPWT9', 'FPWT10', 'FPWT11', 'FPWT12', 'FPWT13', 'FPWT14', 'FPWT15', 'FPWT16', 'FPWT17', 'FPWT18', 'FPWT19', 'FPWT20', 'FPWT21', 'FPWT22', 'FPWT23', 'FPWT24', 'FPWT25', 'FPWT26', 'FPWT27', 'FPWT28', 'FPWT29', 'FPWT30', 'FPWT31', 'FPWT32', 'FPWT33', 'FPWT34', 'FPWT35', 'FPWT36', 'FPWT37', 'FPWT38', 'FPWT39', 'FPWT40', 'FPWT41', 'FPWT42', 'FPWT43', 'FPWT44', 'FPWT45', 'FPWT46', 'FPWT47', 'FPWT48', 'FPWT49', 'FPWT50', 'FPWT51', 'FPWT52', 'FPWT53', 'FPWT54', 'FPWT55', 'FPWT56', 'FPWT57', 'FPWT58', 'FPWT59', 'FPWT60', 'FPWT61', 'FPWT62', 'FPWT63', 'FPWT64', 'FPWT65', 'FPWT66', 'FPWT67', 'FPWT68', 'FPWT69', 'FPWT70', 'FPWT71', 'FPWT72', 'FPWT73', 'FPWT74', 'FPWT75', 'FPWT76', 'FPWT77', 'FPWT78', 'FPWT79', 'FPWT80', 'PPSU', 'PSTRATUM', 'AGF2006', 'SEF', 'RESPAGF', 'RESRELF', 'MOMAGF1', 'MOMTYPF1', 'MOMTYPF2', 'DADAGF1', 'DADTYPF1', 'AGF1', 'SEF1', 'RELATF1', 'AGF2', 'RELATF2', 'AGF3', 'RELATF3', 'RELATF4', 'AGF5', 'AGF6', 'CDOBMF', 'CDOBYF', 'CSPEAF', 'RESPEAF', 'HOMESCHF', 'HOMEALF', 'HOMSCHF', 'GRADF', 'GRADEEF', 'HSWHF', 'HSTUTOF', 'HSDAYF', 'HSHOURF', 'HSASSF', 'HSFREF', 'HSKACTIF', 'HSCLIBF', 'HSCHSPUF', 'HSCEDPUF', 'HSCORF', 'HSCCHUF', 'HSCPUBF', 'HSCPRIF', 'HSCREF', 'HSCNEF', 'HSOLIBF', 'HSOCHUF', 'HSOPUBF', 'HSOPRIF', 'HSOOTF', 'HSINTNEF', 'HOMALLGRF', 'HOMEKF', 'HOMF1', 'HOMF2', 'HOMF3', 'HOMF4', 'HOMF5', 'HOMF6', 'HOMF7', 'HOMF8', 'HOMF9', 'HOMF10', 'HOMF11', 'HOMF12', 'HSSAFETF', 'HSDISSAF', 'HSRELIGF', 'HSDISABF', 'HSILF', 'HSSPCLNF', 'HSALF', 'HSOTHEF', 'HSMOSF', 'KPENROLF', 'KPAGEYF', 'KPAGEMF', 'KPFULDAF', 'SPUBLIF', 'SCHOICF', 'SDISRCF', 'SPUBCHOF', 'SCONSIDF', 'SPERFORF', 'STLKPAF', 'SREASOF', 'S1STCHOF', 'SNEIGHBF', 'SSAMSF', 'SMVMTF', 'SEENJOF', 'SEGRADSF', 'SEGRADEF', 'SEBEHAF', 'SESCHWRF', 'SEDOWELF', 'SEADPLF', 'SEESF', 'SEREPEAF', 'SEREPTF', 'SEREPF1', 'SEREPF2', 'SEREPF3', 'SEREPF4', 'SEREPF5', 'SEREPF6', 'SEREPF7', 'SEREPF8', 'SEREPF9', 'SEREPF10', 'SEREPF11', 'SEREPF12', 'SESUSOUF', 'SESUSPIF', 'SEEXPEF', 'SERECNEF', 'SEFUTURF', 'SEFAMPAF', 'SECOLACF', 'SESCHOF', 'FSMTNF', 'FSPTMTNF', 'FSATCNFF', 'FSSPORF', 'FSVOF', 'FSFUNDRF', 'FSCOMMTF', 'FSCOUNSLF', 'FSFREF', 'FSNOTEF', 'FSMEMOF', 'FSPHONF', 'FSSPPEFF', 'FSSPHF', 'FSSPCOUF', 'FSSPCOLF', 'FSSPROLF', 'FCSCHOOF', 'FCTEACHF', 'FCSTDF', 'FCORDEF', 'FCSUPPRF', 'FPMTGWRF', 'FPTCHCAF', 'FPHLPCHF', 'FPPTRUSF', 'FPSWELCF', 'FPPRVAF', 'FPPRATNF', 'FPTALF', 'FSDIFENF', 'FSINTERF', 'FSTRANSF', 'FHHOMF', 'FHWKHRF', 'FHAMOUNF', 'FHPLACF', 'FORHF', 'FHCHECF', 'FHHELF', 'FHSCHTUF', 'FHGETTUF', 'FHTUTSAF', 'FHOTHTUF', 'FHPDTSAF', 'FHTUCOSF', 'FHTUUNIF', 'HABOOKF', 'FOREADTF', 'MOTHERFF', 'FATHERMF', 'SISBRF', 'ANOTADLF', 'SOMEONEF', 'FORDDAF', 'FOPICTF', 'FOLETTF', 'FOCHREAF', 'FOTLKSTF', 'HASTORF', 'HAWORDF', 'HAPRETNF', 'FOCHLRF', 'HALEAPPF', 'FOSTORF2', 'FOCRAFF2', 'FOSPORF2', 'FOBUILF1', 'FOHISF', 'FOGAMEF2', 'FOBUILF2', 'FOSPORF3', 'FORESPOF', 'FODINNEF', 'FOLIBRAF', 'FOBOOKSF', 'FOCONCRF', 'FOMUSEUF', 'FOZOF', 'FOGROUF', 'FOSPRTEF', 'FOETHNIF', 'TVHRWKDF', 'TVWKDYNF', 'TVHRWKNF', 'TVWKNDNF', 'ABCCBSCF', 'ANIMPLAF', 'CARTOONF', 'CHRSTNCF', 'DISCOVEF', 'DISNEYCF', 'SPORTSCF', 'FAMILYCF', 'MTVVF1', 'NICKELOF', 'NEWSNEF', 'NOGGIF', 'PBSSPRF', 'SPNLNGCF', 'LEARNCF', 'TVLANF', 'HISTCHAF', 'FOODNEF', 'TVOTHEF', 'VIDNOTF', 'TVCHMOSF', 'FORTVPRF', 'FOSCHACF', 'FOMUSLEF', 'FORELCLF', 'FOORGSPF', 'FOSCOUTF', 'FOCOLEXF', 'FOARTF', 'PARREAF', 'CSPARCMF', 'HDBRTHF5', 'HDBRTHF3', 'HDPRMTF4', 'HDHOSF', 'HDIFSF', 'HDHEALTF', 'HDCHINF', 'HDWEIGHF', 'HDWEIGHF2', 'HDLEARF', 'HDMENREF', 'HDSPEECF', 'HDDISTRF', 'HDDEAFIF', 'HDBLINF', 'HDORTHF', 'HDAUTISF', 'HDADF', 'HDPDF', 'HDOTHEF', 'HDSCHF', 'HDGOVF', 'HDDOCTOF', 'HDSOURCF', 'HDIEF', 'HDDEVIEF', 'HDSPCLEF', 'HDCOMMF', 'HDTCHF', 'HDACCOF', 'HDCOMMIF', 'HDAFFECF', 'CBORNUF', 'CMOVEAGF', 'CHISPAF', 'CWHITF', 'CBLACF', 'CAMINF', 'CASIAF', 'CPACF', 'CRACEOTF', 'MOMNEF1', 'MOMSTAF1', 'MOMLIVF1', 'MOMLANF1', 'MOMSPEAF1', 'MOMBORF1', 'MHISPAF1', 'MWHITF1', 'MBLACF1', 'MAMINF1', 'MASIAF1', 'MPACF1', 'MRACEOTF1', 'MOMGRADF1', 'MOMGRAF11', 'MOMGRAF21', 'MOMVOTEF1', 'MOMDIPF1', 'MOMWORF1', 'MOMLEAVF1', 'MOMHOURF1', 'MOMMTHF1', 'MOMLOOF1', 'MOMAGNF1', 'MOMEMPF1', 'MOMREF1', 'MOMANSAF1', 'MOMENROF1', 'MOMNEF2', 'MOMSTAF2', 'MOMLIVF2', 'MOMLANF2', 'MOMSPEAF2', 'MOMBORF2', 'MHISPAF2', 'MWHITF2', 'MBLACF2', 'MAMINF2', 'MASIAF2', 'MPACF2', 'MRACEOTF2', 'MOMGRADF2', 'MOMVOTEF2', 'MOMDIPF2', 'MOMWORF2', 'MOMLEAVF2', 'MOMMTHF2', 'MOMENROF2', 'DADSTAF1', 'DADLIVF1', 'DADLANF1', 'DADSPEAF1', 'DADBORF1', 'DHISPAF1', 'DWHITF1', 'DBLACF1', 'DAMINF1', 'DASIAF1', 'DPACF1', 'DRACEOTF1', 'DADGRADF1', 'DADGRAF11', 'DADGRAF21', 'DADVOTEF1', 'DADDIPF1', 'DADWORF1', 'DADLEAVF1', 'DADHOURF1', 'DADMTHF1', 'DADLOOF1', 'DADAGNF1', 'DADEMPF1', 'DADREF1', 'DADANSAF1', 'DADENROF1', 'FOINTHF', 'HWELFTAF', 'HWELFSF', 'HWIF', 'HFOODSF', 'HMEDICAF', 'HCHIF', 'HSECF8', 'H3YRMOVF', 'HINCMRNF', 'HINCM50F', 'HINCOMF']\n",
      "10681\n",
      "916\n"
     ]
    }
   ],
   "source": [
    "print(list(df))\n",
    "print(len(df))\n",
    "print(len(list(df)))"
   ]
  },
  {
   "cell_type": "code",
   "execution_count": 8,
   "id": "f308a571",
   "metadata": {},
   "outputs": [
    {
     "name": "stdout",
     "output_type": "stream",
     "text": [
      "-0.7546109914801985\n",
      "-1.0\n",
      "2.9735701471947587\n"
     ]
    }
   ],
   "source": [
    "quant_col = 'HSDAYS'\n",
    "\n",
    "mean = df[quant_col].mean()\n",
    "print(mean)\n",
    "\n",
    "median = df [quant_col].median()\n",
    "print(median)\n",
    "\n",
    "standard_deviation = df[quant_col].std()\n",
    "print(standard_deviation)"
   ]
  },
  {
   "cell_type": "code",
   "execution_count": null,
   "id": "0a33fb44",
   "metadata": {},
   "outputs": [],
   "source": []
  },
  {
   "cell_type": "code",
   "execution_count": null,
   "id": "561e3f49",
   "metadata": {},
   "outputs": [],
   "source": []
  }
 ],
 "metadata": {
  "kernelspec": {
   "display_name": "Python 3 (ipykernel)",
   "language": "python",
   "name": "python3"
  },
  "language_info": {
   "codemirror_mode": {
    "name": "ipython",
    "version": 3
   },
   "file_extension": ".py",
   "mimetype": "text/x-python",
   "name": "python",
   "nbconvert_exporter": "python",
   "pygments_lexer": "ipython3",
   "version": "3.9.12"
  }
 },
 "nbformat": 4,
 "nbformat_minor": 5
}
